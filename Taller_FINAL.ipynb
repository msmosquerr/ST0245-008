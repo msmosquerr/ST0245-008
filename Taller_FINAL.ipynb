{
  "nbformat": 4,
  "nbformat_minor": 0,
  "metadata": {
    "colab": {
      "name": "Taller_FINAL.ipynb",
      "provenance": [],
      "collapsed_sections": [],
      "include_colab_link": true
    },
    "kernelspec": {
      "name": "python3",
      "display_name": "Python 3"
    }
  },
  "cells": [
    {
      "cell_type": "markdown",
      "metadata": {
        "id": "view-in-github",
        "colab_type": "text"
      },
      "source": [
        "<a href=\"https://colab.research.google.com/github/msmosquerr/ST0245-008/blob/master/Taller_FINAL.ipynb\" target=\"_parent\"><img src=\"https://colab.research.google.com/assets/colab-badge.svg\" alt=\"Open In Colab\"/></a>"
      ]
    },
    {
      "cell_type": "markdown",
      "metadata": {
        "id": "SeBzvTkIEfhL"
      },
      "source": [
        "Integrantes: Santiago Parra Mejía y \n",
        "Myllee Sarleth Mosquera Rivas"
      ]
    },
    {
      "cell_type": "markdown",
      "metadata": {
        "id": "DzWlcs9OoSJO"
      },
      "source": [
        "Punto 1\n",
        "\n",
        "Si, es posible tener una lista enlazada que almacene elementos diferentes en cada uno de sus nodos, (de hecho, las listas de python tienen esta posibilidad), ya que basta tener los nodos creados con cada uno de los datos y conectarlos con los enlaces correspondientes.\n",
        "Lo que si pasaría si creamos una lista como esta, es que ya no podriamos hacer uso de muchos metodos que facilitan al momento de trabajar con listas, o al menos se tendria que hacer modificaciones ya que su funcionamiento no seria el mismo para una lista homogenea (especialmente cuando hay solo numeros) que para una lista heterogenea, con diferentes tipos de datos "
      ]
    },
    {
      "cell_type": "markdown",
      "metadata": {
        "id": "cPvRypg9PBN7"
      },
      "source": [
        "Punto 2"
      ]
    },
    {
      "cell_type": "code",
      "metadata": {
        "id": "9tUpisGLwP1G"
      },
      "source": [
        "lista=[2,4,1,6,5,3,2,7]  \n",
        "\n",
        "def Sumar(lista):\n",
        "    if (len(lista)==0):\n",
        "        sum=0\n",
        "    else:\n",
        "        sum= lista[0] + Sumar(lista[1:])\n",
        "    return sum\n",
        "\n",
        "def promedio(sum,lista):\n",
        "    prom=sum/(len(lista))\n",
        "    return prom\n",
        "lista=[2,4,1,6,5,3,2,7]  \n",
        "print(\"El promedio de los valores de la lista es\",promedio(Sumar(lista), lista))"
      ],
      "execution_count": null,
      "outputs": []
    },
    {
      "cell_type": "code",
      "metadata": {
        "id": "4H9ZugfEwUE-",
        "colab": {
          "base_uri": "https://localhost:8080/"
        },
        "outputId": "2652bf27-9006-4c38-cca0-46ea4cf1de8e"
      },
      "source": [
        "#IBAEDLFCHJKMG\n",
        "#En posorden\n",
        "3.2\n",
        "\n",
        "3.3\n",
        "#Preorden GEAIBMCLDFKJH\n",
        "#Inorden  IABEGLDCFMKHJ\n",
        "#Posorden IBAEDLFCHJKMG\n",
        "\n",
        "class node():\n",
        "    def __init__(self, dato):\n",
        "        self.left = None\n",
        "        self.right = None\n",
        "        self.dato = dato\n",
        "\n",
        "class arbol():\n",
        "    def __init__(self):\n",
        "        self.root = None\n",
        "        \n",
        "    def insert(self, a, dato):\n",
        "        #modificación para restringir la entrada de datos, no se permiten datos repetidos\n",
        "        assert self.buscar(dato, a) is None, \"El dato ya existe\"\n",
        "        if a == None:\n",
        "            a = node(dato)\n",
        "        else:\n",
        "            d = a.dato\n",
        "            if dato < d:\n",
        "                a.left = self.insert(a.left, dato)\n",
        "            else:\n",
        "                a.right = self.insert(a.right, dato)\n",
        "        return a\n",
        "\n",
        "    def inorder(self, a):\n",
        "        if a == None:\n",
        "            return None\n",
        "        else:\n",
        "            self.inorder(a.left)\n",
        "            print(a.dato)\n",
        "            self.inorder(a.right)\n",
        "\n",
        "    def preorder(self, a):\n",
        "        if a == None:\n",
        "            return None\n",
        "        else:\n",
        "            print(a.dato)\n",
        "            self.preorder(a.left)\n",
        "            self.preorder(a.right)\n",
        "\n",
        "    def postorder(self, a):\n",
        "        if a == None:\n",
        "            return None\n",
        "        else:\n",
        "            self.postorder(a.left)\n",
        "            self.postorder(a.right)\n",
        "            print(a.dato)\n",
        "\n",
        "    def buscar(self, dato, a):\n",
        "        if a == None:\n",
        "            return None\n",
        "        else:\n",
        "            if dato == a.dato:\n",
        "                return a.dato\n",
        "            else:\n",
        "                if dato < a.dato:\n",
        "                    return self.buscar(dato, a.left)\n",
        "                else:\n",
        "                    return self.buscar(dato, a.right)\n",
        "    \n",
        "    def acceder(self, dato, a):\n",
        "      if a == None:\n",
        "        return None\n",
        "      else:\n",
        "        if a.left is not None:\n",
        "          if a.left.dato == dato:\n",
        "            return a\n",
        "        if a.right is not None:  \n",
        "          if a.right.dato == dato:\n",
        "            return a\n",
        "        if dato < a.dato:\n",
        "          return self.acceder(dato, a.left)\n",
        "        else:\n",
        "          return self.acceder(dato, a.right)\n",
        "        \n",
        "    def borrar(self, dato, a):\n",
        "      if a == None:\n",
        "        return None\n",
        "      else:\n",
        "        raiz = self.acceder(dato, a)\n",
        "        assert raiz is not None, \"La raiz es nula\"\n",
        "        if raiz.left is not None:\n",
        "          if raiz.left.dato == dato:\n",
        "            if raiz.left.left is None and raiz.left.right is None:\n",
        "              raiz.left = None\n",
        "            elif raiz.left.left is None and raiz.left.right is not None:\n",
        "              raiz.left = raiz.left.right\n",
        "            elif raiz.left.left is not None and raiz.left.right is None:\n",
        "              raiz.left = raiz.left.left\n",
        "            else:\n",
        "              if raiz.left.left.dato < raiz.left.right.dato:\n",
        "                temp = raiz.left.left\n",
        "                raiz.left = raiz.left.right\n",
        "                raiz.left.left = temp\n",
        "        elif raiz.right is not None:\n",
        "          if raiz.right.dato == dato:\n",
        "            if raiz.right.left is None and raiz.right.right is None:\n",
        "              raiz.right = None\n",
        "            elif raiz.right.left is None and raiz.right.right is not None:\n",
        "              raiz.right = raiz.right.right\n",
        "            elif raiz.right.left is not None and raiz.right.right is None:\n",
        "              raiz.right = raiz.right.left\n",
        "            else:\n",
        "              if raiz.right.left.dato > raiz.right.right.dato:\n",
        "                temp = raiz.right.left\n",
        "                raiz.right = raiz.right.right\n",
        "                raiz.right.left = temp\n",
        "          else:\n",
        "            pass\n",
        "          \n",
        "        \n",
        "tree = arbol()\n",
        "\n",
        "def posorden(pre, ino, n):\n",
        "  prelista = []\n",
        "  inlista = []\n",
        "  poslista = []\n",
        "\n",
        "  if len(pre) > 0:\n",
        "    for i in pre:\n",
        "      prelista.append(i)\n",
        "  if len(ino) > 0:\n",
        "    for i in ino:\n",
        "      inlista.append(i)\n",
        "\n",
        "  if len(pre) == 0 and len(ino) == 0:\n",
        "    return\n",
        "  \n",
        "  actpre = prelista[0]\n",
        "  actin = inlista[0]\n",
        "\n",
        "  for i in range(len(inlista)):\n",
        "    if inlista[i] == actpre:\n",
        "      actin = i\n",
        "      break\n",
        "  \n",
        "  subinizq = inlista[:actin]\n",
        "  subpreizq = prelista[1:actin+1]\n",
        "  subinder = inlista[actin+1:]\n",
        "  subpreder = prelista[actin+1:]\n",
        "\n",
        "  print(\"\\t\"*(50-n), actpre)\n",
        "  print(\"\\t\"*(50-n), actpre, \"Izquierda:\")\n",
        "  posorden(subpreizq, subinizq, n-1)\n",
        "  print(\"\\t\"*(50-n), actpre, \"Derecha:\")\n",
        "  posorden(subpreder, subinder, n-1)\n",
        "\n",
        "posorden(\"GEAIBMCLDFKJH\", \"IABEGLDCFMKHJ\", 50)"
      ],
      "execution_count": null,
      "outputs": [
        {
          "output_type": "stream",
          "text": [
            " G\n",
            " G Izquierda:\n",
            "\t E\n",
            "\t E Izquierda:\n",
            "\t\t A\n",
            "\t\t A Izquierda:\n",
            "\t\t\t I\n",
            "\t\t\t I Izquierda:\n",
            "\t\t\t I Derecha:\n",
            "\t\t A Derecha:\n",
            "\t\t\t B\n",
            "\t\t\t B Izquierda:\n",
            "\t\t\t B Derecha:\n",
            "\t E Derecha:\n",
            " G Derecha:\n",
            "\t M\n",
            "\t M Izquierda:\n",
            "\t\t C\n",
            "\t\t C Izquierda:\n",
            "\t\t\t L\n",
            "\t\t\t L Izquierda:\n",
            "\t\t\t L Derecha:\n",
            "\t\t\t\t D\n",
            "\t\t\t\t D Izquierda:\n",
            "\t\t\t\t D Derecha:\n",
            "\t\t C Derecha:\n",
            "\t\t\t F\n",
            "\t\t\t F Izquierda:\n",
            "\t\t\t F Derecha:\n",
            "\t M Derecha:\n",
            "\t\t K\n",
            "\t\t K Izquierda:\n",
            "\t\t K Derecha:\n",
            "\t\t\t J\n",
            "\t\t\t J Izquierda:\n",
            "\t\t\t\t H\n",
            "\t\t\t\t H Izquierda:\n",
            "\t\t\t\t H Derecha:\n",
            "\t\t\t J Derecha:\n"
          ],
          "name": "stdout"
        }
      ]
    },
    {
      "cell_type": "code",
      "metadata": {
        "id": "9w6wYf1vx78-",
        "colab": {
          "base_uri": "https://localhost:8080/"
        },
        "outputId": "ce4a1188-1fcd-4c5f-ae6f-9249c5cb5026"
      },
      "source": [
        "#IBAEDLFCHJKMG\n",
        "#En posorden\n",
        "3.2\n",
        " \n",
        "3.3\n",
        "#Preorden GEAIBMCLDFKJH\n",
        "#Inorden  IABEGLDCFMKHJ\n",
        "#Posorden IBAEDLFCHJKMG\n",
        " \n",
        "def posorden(pre, ino):\n",
        "  prelista = []\n",
        "  inlista = []\n",
        "  poslista = []\n",
        " \n",
        "  if len(pre) > 0:\n",
        "    for i in pre:\n",
        "      prelista.append(i)\n",
        "  if len(ino) > 0:\n",
        "    for i in ino:\n",
        "      inlista.append(i)\n",
        " \n",
        "  if len(pre) == 0 and len(ino) == 0:\n",
        "    return\n",
        "  \n",
        "  actpre = prelista[0]\n",
        "  actin = inlista[0]\n",
        " \n",
        "  for i in range(len(inlista)):\n",
        "    if inlista[i] == actpre:\n",
        "      actin = i\n",
        "      break\n",
        "  \n",
        "  subinizq = inlista[:actin]\n",
        "  subpreizq = prelista[1:actin+1]\n",
        "  subinder = inlista[actin+1:]\n",
        "  subpreder = prelista[actin+1:]\n",
        " \n",
        "  posorden(subpreizq, subinizq)\n",
        "  posorden(subpreder, subinder)\n",
        "  print(actpre, end =\"\")\n",
        " \n",
        "posorden(\"GEAIBMCLDFKJH\", \"IABEGLDCFMKHJ\")\n",
        "#Resultado esperado: IBAEDLFCHJKMG"
      ],
      "execution_count": null,
      "outputs": [
        {
          "output_type": "stream",
          "text": [
            "IBAEDLFCHJKMG"
          ],
          "name": "stdout"
        }
      ]
    },
    {
      "cell_type": "code",
      "metadata": {
        "id": "2CgKoMlp8AVR",
        "colab": {
          "base_uri": "https://localhost:8080/"
        },
        "outputId": "604d6a13-22bf-43b1-a2f3-f7a4710461b3"
      },
      "source": [
        "#PUNTO 4\n",
        "\n",
        "n=int(input(\"Ingrese el numero de nuggets a comprar \"))\n",
        "def NumNuggets(n):\n",
        "   variable = False\n",
        "   arr = []\n",
        "   for x in range(n//6+1):\n",
        "        for y in range(n//9+1):\n",
        "            for z in range(n//20+1):\n",
        "                if ((6*x)+(9*y)+(20*z))==n:\n",
        "                   variable = True\n",
        "                   arr.append([x,y,z])\n",
        "   if variable==True:\n",
        "     i =0\n",
        "     while i<len(arr):\n",
        "       print(\"Puedes comprar\",arr[i][0],\"de 6,\",arr[i][1],\"de 9 y\",arr[i][2],\"de 20\")  \n",
        "       i = i+1\n",
        "     return \":D\"\n",
        "   else:\n",
        "     return \"No puedes comprar esta cantidad de Nuggets\"\n",
        "print(NumNuggets(n))"
      ],
      "execution_count": null,
      "outputs": [
        {
          "output_type": "stream",
          "text": [
            "Ingrese el numero de nuggets a comprar 20\n",
            "Puedes comprar 0 de 6, 0 de 9 y 1 de 20\n",
            ":D\n"
          ],
          "name": "stdout"
        }
      ]
    },
    {
      "cell_type": "markdown",
      "metadata": {
        "id": "u-6SwgiZy7OQ"
      },
      "source": [
        "Punto 5\n",
        "\n",
        "5.1 O(n)\n",
        "\n",
        "5.2 O(n)\n",
        "\n",
        "5.3 O(log(n))\n",
        "\n",
        "5.4 O(n*log(n))\n",
        "\n",
        "5.5 O(1)"
      ]
    },
    {
      "cell_type": "code",
      "metadata": {
        "id": "mj4qsWVWqBUF",
        "colab": {
          "base_uri": "https://localhost:8080/"
        },
        "outputId": "06ae3a2a-51ee-418e-dfd4-d56956e8f222"
      },
      "source": [
        "#Punto 6\n",
        "class node():\n",
        "    def __init__(self, dato):\n",
        "        self.left = None\n",
        "        self.right = None\n",
        "        self.dato = dato\n",
        "\n",
        "class arbol():\n",
        "    def __init__(self):\n",
        "        self.root = None\n",
        "        \n",
        "    def insert(self, a, dato):\n",
        "        if a == None:\n",
        "            a = node(dato)\n",
        "        else:\n",
        "            d = a.dato\n",
        "            if dato < d:\n",
        "                a.left = self.insert(a.left, dato)\n",
        "            else:\n",
        "                a.right = self.insert(a.right, dato)\n",
        "        return a\n",
        "\n",
        "    def altura(self, a):\n",
        "      if a is None:\n",
        "        return 0\n",
        "      if a is not None and (a.left is None and a.right is None):\n",
        "        return 1\n",
        "      return 1 + max(self.altura(a.left), self.altura(a.right))\n",
        "      \n",
        "tree = arbol()\n",
        "tree.root = node(10)\n",
        "for i in range(1,10):\n",
        "  tree.insert(tree.root, i)\n",
        "for i in range(11,15):\n",
        "  tree.insert(tree.root, i)\n",
        "print(tree.altura(tree.root))"
      ],
      "execution_count": null,
      "outputs": [
        {
          "output_type": "stream",
          "text": [
            "10\n"
          ],
          "name": "stdout"
        }
      ]
    },
    {
      "cell_type": "code",
      "metadata": {
        "id": "W54qrsxazuZf",
        "colab": {
          "base_uri": "https://localhost:8080/"
        },
        "outputId": "6532ca80-1fc6-449f-a0ec-1d4da4767fd9"
      },
      "source": [
        "#Punto 7 CODIGO ORIGINAL\n",
        "class Alumno:\n",
        "    def __init__(self, nombre, edad, nota):\n",
        "        self.nombre = nombre\n",
        "        self.edad = edad\n",
        "        self.nota = nota\n",
        "    def __str__(self):\n",
        "       return self.nombre+' - '+str(self.edad)+' años :'+str(self.nota)\n",
        "\n",
        "class Nodo:\n",
        "    def __init__(self, datos):\n",
        "        self.datos = datos\n",
        "        self.siguiente = None\n",
        "\n",
        "primero = None\n",
        "alumno = Alumno('Alex', 30, 8.9)\n",
        "nodo = Nodo(alumno)\n",
        "nodo.siguiente = primero\n",
        "primero = nodo\n",
        "alumno = Alumno('Pepe', 27, 3.7)\n",
        "nodo = Nodo(alumno)\n",
        "nodo.siguiente = primero\n",
        "primero = nodo\n",
        "n = primero\n",
        "while n != None:\n",
        " print(n.datos)\n",
        " n = n.siguiente"
      ],
      "execution_count": null,
      "outputs": [
        {
          "output_type": "stream",
          "text": [
            "Pepe - 27 años :3.7\n",
            "Alex - 30 años :8.9\n"
          ],
          "name": "stdout"
        }
      ]
    },
    {
      "cell_type": "code",
      "metadata": {
        "id": "OWPU5ATx8OSo",
        "colab": {
          "base_uri": "https://localhost:8080/"
        },
        "outputId": "a6f317c0-79e9-47b3-b548-0279800131e1"
      },
      "source": [
        "#Punto 7 CODIGO OPTIMIZADO\n",
        "class Alumno:\n",
        "    def __init__(self, nombre, edad, nota):\n",
        "        self.nombre = nombre\n",
        "        self.edad = edad\n",
        "        self.nota = nota\n",
        "    def __str__(self):\n",
        "       return self.nombre+' - '+str(self.edad)+' años :'+str(self.nota)\n",
        "\n",
        "class Nodo:\n",
        "    def __init__(self, datos):\n",
        "        self.datos = datos\n",
        "        self.siguiente = None\n",
        "class Pila:\n",
        "      def __init__(self):\n",
        "        self.head=None\n",
        "        \n",
        "      def no_vacio(self):\n",
        "        if self.head == None:\n",
        "          return True\n",
        "        else:\n",
        "          return False\n",
        "\n",
        "      def apilar(self,data):\n",
        "        if self.head == None:\n",
        "            self.head=Nodo(data)\n",
        "        else:\n",
        "            nuevo_nodo= Nodo(data)\n",
        "            nuevo_nodo.next=self.head\n",
        "            self.head=nuevo_nodo\n",
        "        aux=self.head\n",
        "        print(aux.datos,\" \",end= None)\n",
        "        \n",
        "nodo=Pila()\n",
        "nodo.apilar(Alumno('Alex', 30, 8.9))\n",
        "nodo.apilar(Alumno('Pepe', 27, 3.7))\n",
        "nodo.apilar(Alumno('Juan',23,3.5))\n",
        "nodo.apilar(Alumno('Laura',24,4.5))"
      ],
      "execution_count": null,
      "outputs": [
        {
          "output_type": "stream",
          "text": [
            "Alex - 30 años :8.9  \n",
            "Pepe - 27 años :3.7  \n",
            "Juan - 23 años :3.5  \n",
            "Laura - 24 años :4.5  \n"
          ],
          "name": "stdout"
        }
      ]
    },
    {
      "cell_type": "markdown",
      "metadata": {
        "id": "yFAMCyjC2duW"
      },
      "source": [
        "Punto 7\n",
        "\n",
        "7.1 La estructura que se utilizó para almacenar los datos de cada estudiante fue una Pila\n",
        "\n",
        "7.2 Este algoritmo tiene complejidad O(n)\n",
        "\n",
        "7.3 Puedes ver las modificaciones hechas al código en la parte de arriba\n",
        "\n",
        "7.4 Con las modificaciones hechas al original, el nuevo código tiene una complejidad de O(1)"
      ]
    },
    {
      "cell_type": "code",
      "metadata": {
        "id": "wgu212d3yeNY",
        "colab": {
          "base_uri": "https://localhost:8080/"
        },
        "outputId": "b76f17b7-17f9-4a05-feae-6c7f279130a4"
      },
      "source": [
        "#Punto 8 \n",
        "class Alumno:\n",
        "   def __init__(self, nombre, edad, programa,gustos):\n",
        "        self.nombre = nombre\n",
        "        self.edad = edad\n",
        "        self.programa= programa\n",
        "        self.gustos=gustos\n",
        "   def __str__(self):\n",
        "        return self.nombre+' - '+str(self.edad)+' años :'+' Estudia ingenieria '+ str(self.programa)+' , '+str(self.gustos)\n",
        "class Node: \n",
        "    # constructor inicializa el nodo automaticamente\n",
        "    def __init__(self,data): \n",
        "        self.data = data \n",
        "        self.next = None\n",
        "class Pila:\n",
        "    def __init__(self):\n",
        "        self.head= None #Crear cabeza\n",
        "    \n",
        "    def no_vacio(self):\n",
        "        if self.head == None:\n",
        "            return True\n",
        "        else:\n",
        "            return False\n",
        "    def apilar(self,data):\n",
        "        if self.head == None:\n",
        "            self.head=Node(data)\n",
        "        else:\n",
        "            nuevo_nodo= Node(data)\n",
        "            nuevo_nodo.next=self.head #Enlazarlo con la cabeza\n",
        "            self.head=nuevo_nodo #La cabeza pasa a ser el nuevo nodo\n",
        "    def Imprimir(self):\n",
        "        #Imprimir la pila\n",
        "        aux=self.head\n",
        "        if self.no_vacio():\n",
        "            print(\" \")\n",
        "        else:\n",
        "          while (aux != None):\n",
        "            print(aux.data,\" \",end= None)\n",
        "            aux=aux.next\n",
        "        return aux\n",
        "nodo = Pila()\n",
        "nodo.apilar(Alumno('Daniel Garcia Salcedo',18,'de ¿Sistemas?','Le gustan los video juegos, el freestyle, la música,la comida y ver series'))\n",
        "nodo.apilar(Alumno('Daniel Gonzales Bernal',29,'de Sistemas','Le gustan las series, el anime, cocinar,las motos, viajar y tomar fotos turísticas'))\n",
        "nodo.apilar(Alumno('Diego Velásquez Varela',17,'Matemática','Le gusta el Rock, música acústica, toca la guitarra, le gusta Naruto'))\n",
        "nodo.apilar(Alumno('Harold Steven González','No sabemos sus ','Matemática','Le divierten las matemáticas, toca el trombón, le gusta leer, los doritos y ver películas'))\n",
        "nodo.apilar(Alumno('Jayder Ochoa Carvajal','No sabemos sus','de ¿Sistemas?','Le gusta el anime, dibuja muy bien, es colaborador y trata de dar lo mejor de si mismo'))\n",
        "nodo.apilar(Alumno('Juan Felipe Agudelo Velez',17,'Matemática','Le gusta la música, toca la guitarra,la matemática, la carrera espacial y la cazuela paisa'))\n",
        "nodo.apilar(Alumno('Juan Felipe Martinez Bedoya',20,'Sistemas y mecánica','Le gusta leer, ver series y peliculas, videojuegos, los deportes, la robótica y los perros'))\n",
        "nodo.apilar(Alumno('Juan Manuel Muñoz Arias','Desconocida','de Sistemas','Le gusta jugar, la música, estudiar'))\n",
        "nodo.apilar(Alumno('Donován Castrillón Franco',18,' de Sistemas','Le gusta el anime, los videojuegos,el baloncesto, los gatos,trasnochar, comer cosas nuevas, y la música'))\n",
        "nodo.apilar(Alumno('Jose Miguel Blanco Velez',17,'de Sistemas','Le gusta la música en especial el trap, y los videojuegos'))\n",
        "nodo.apilar(Alumno('Jose Manuel Ramirez',17,'Matemática','Le gusta el anime, la matemática pura, física teórica, la música, ha compuesto electronica ¡Escribánle! Para info'))\n",
        "nodo.apilar(Alumno('Myllee Sarleth Mosqeuera Rivas',17,'Matemática','Le gusta la música, bailar,dibujar, leer y las matemáticas'))\n",
        "nodo.apilar(Alumno('Daniel Andres Hernández Olaya',17,'de Sistemas','Le gusta el deporte, los videojuegos, probar comida nueva, y la música'))\n",
        "nodo.apilar(Alumno('Julian Andres Mazo',17,'de ¿Sistemas?','Le gusta la música, toca la guitarra acústica y electrica, los videojuegos, dibujar, y leer libros filosóficos'))\n",
        "nodo.apilar(Alumno('Santiago Parra Mejía',16,'Matemática','Le gusta la música, toca el piano y quiere aprender técnica vocal, las matemáticas puras y la computación y es un católico apasionado'))\n",
        "nodo.apilar(Alumno('Salomón Velez Perez',17,'de Sistemas','Le gusta escribir, los videojuegos, el anime y escuchar música'))\n",
        "nodo.apilar(Alumno('Simón Gómez Arango',17,'de Sistamas','Le gusta el campo y meditar, lo paranormal, la música, ver peliculas y series, monas chinas y los juegos'))\n",
        "nodo.apilar(\"ESTOS SON LOS ESTUDIANTES DEL CURSO DE ESTRUCTURAS DE DATOS Y ALGORITMOS, ¡CONOCELOS UN POCO!\")\n",
        "nodo.Imprimir()\n"
      ],
      "execution_count": null,
      "outputs": [
        {
          "output_type": "stream",
          "text": [
            "ESTOS SON LOS ESTUDIANTES DEL CURSO DE ESTRUCTURAS DE DATOS Y ALGORITMOS, ¡CONOCELOS UN POCO!  \n",
            "Simón Gómez Arango - 17 años : Estudia ingenieria de Sistamas , Le gusta el campo y meditar, lo paranormal, la música, ver peliculas y series, monas chinas y los juegos  \n",
            "Salomón Velez Perez - 17 años : Estudia ingenieria de Sistemas , Le gusta escribir, los videojuegos, el anime y escuchar música  \n",
            "Santiago Parra Mejía - 16 años : Estudia ingenieria Matemática , Le gusta la música, toca el piano y quiere aprender técnica vocal, las matemáticas puras y la computación y es un católico apasionado  \n",
            "Julian Andres Mazo - 17 años : Estudia ingenieria de ¿Sistemas? , Le gusta la música, toca la guitarra acústica y electrica, los videojuegos, dibujar, y leer libros filosóficos  \n",
            "Daniel Andres Hernández Olaya - 17 años : Estudia ingenieria de Sistemas , Le gusta el deporte, los videojuegos, probar comida nueva, y la música  \n",
            "Myllee Sarleth Mosqeuera Rivas - 17 años : Estudia ingenieria Matemática , Le gusta la música, bailar,dibujar, leer y las matemáticas  \n",
            "Jose Manuel Ramirez - 17 años : Estudia ingenieria Matemática , Le gusta el anime, la matemática pura, física teórica, la música, ha compuesto electronica ¡Escribánle! Para info  \n",
            "Jose Miguel Blanco Velez - 17 años : Estudia ingenieria de Sistemas , Le gusta la música en especial el trap, y los videojuegos  \n",
            "Donován Castrillón Franco - 18 años : Estudia ingenieria  de Sistemas , Le gusta el anime, los videojuegos,el baloncesto, los gatos,trasnochar, comer cosas nuevas, y la música  \n",
            "Juan Manuel Muñoz Arias - Desconocida años : Estudia ingenieria de Sistemas , Le gusta jugar, la música, estudiar  \n",
            "Juan Felipe Martinez Bedoya - 20 años : Estudia ingenieria Sistemas y mecánica , Le gusta leer, ver series y peliculas, videojuegos, los deportes, la robótica y los perros  \n",
            "Juan Felipe Agudelo Velez - 17 años : Estudia ingenieria Matemática , Le gusta la música, toca la guitarra,la matemática, la carrera espacial y la cazuela paisa  \n",
            "Jayder Ochoa Carvajal - No sabemos sus años : Estudia ingenieria de ¿Sistemas? , Le gusta el anime, dibuja muy bien, es colaborador y trata de dar lo mejor de si mismo  \n",
            "Harold Steven González - No sabemos sus  años : Estudia ingenieria Matemática , Le divierten las matemáticas, toca el trombón, le gusta leer, los doritos y ver películas  \n",
            "Diego Velásquez Varela - 17 años : Estudia ingenieria Matemática , Le gusta el Rock, música acústica, toca la guitarra, le gusta Naruto  \n",
            "Daniel Gonzales Bernal - 29 años : Estudia ingenieria de Sistemas , Le gustan las series, el anime, cocinar,las motos, viajar y tomar fotos turísticas  \n",
            "Daniel Garcia Salcedo - 18 años : Estudia ingenieria de ¿Sistemas? , Le gustan los video juegos, el freestyle, la música,la comida y ver series  \n"
          ],
          "name": "stdout"
        }
      ]
    }
  ]
}